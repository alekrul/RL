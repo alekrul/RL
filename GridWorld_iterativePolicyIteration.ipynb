{
  "nbformat": 4,
  "nbformat_minor": 0,
  "metadata": {
    "colab": {
      "name": "GridWorld_iterativePolicyIteration.ipynb",
      "provenance": [],
      "authorship_tag": "ABX9TyM8sztvQSVZ5yxbFlxWCGPT",
      "include_colab_link": true
    },
    "kernelspec": {
      "name": "python3",
      "display_name": "Python 3"
    }
  },
  "cells": [
    {
      "cell_type": "markdown",
      "metadata": {
        "id": "view-in-github",
        "colab_type": "text"
      },
      "source": [
        "<a href=\"https://colab.research.google.com/github/alekrul/RL/blob/main/GridWorld_iterativePolicyIteration.ipynb\" target=\"_parent\"><img src=\"https://colab.research.google.com/assets/colab-badge.svg\" alt=\"Open In Colab\"/></a>"
      ]
    },
    {
      "cell_type": "code",
      "metadata": {
        "id": "JNF9Ar-H2AOo"
      },
      "source": [
        "import numpy as np\n",
        "import matplotlib.pyplot as plt"
      ],
      "execution_count": null,
      "outputs": []
    },
    {
      "cell_type": "code",
      "metadata": {
        "id": "A_Nv006zAzad"
      },
      "source": [
        "SMALL_ENOUGH = 1e-3\n",
        "gamma = 0.9\n",
        "ACTION_SPACE = ('U','L','D','R')"
      ],
      "execution_count": null,
      "outputs": []
    },
    {
      "cell_type": "code",
      "metadata": {
        "id": "q471ilmh2itr"
      },
      "source": [
        "#rewards = {(0,3): 1 , (1,3): -1}\n",
        "actions = {\n",
        "    (0,0): ('D','L'),\n",
        "    (0,1): ('R','L'),\n",
        "    (0,2): ('R','D','L'),\n",
        "    (1,0): ('D','U'),\n",
        "    (1,2): ('D','U','R'),\n",
        "    (2,0): ('U','R'),\n",
        "    (2,1): ('R','L'),\n",
        "    (2,2): ('U','L','R'),\n",
        "    (2,3): ('L','U')\n",
        "\n",
        "}"
      ],
      "execution_count": null,
      "outputs": []
    },
    {
      "cell_type": "code",
      "metadata": {
        "id": "S2OGkCQy8RhM"
      },
      "source": [
        "#policy to be evaluated\n",
        "  ### fixed policy ###\n",
        "policy = {\n",
        "    (2, 0): 'U',\n",
        "    (1, 0): 'U',\n",
        "    (0, 0): 'R',\n",
        "    (0, 1): 'R',\n",
        "    (0, 2): 'R',\n",
        "    (1, 2): 'U',\n",
        "    (2, 1): 'R',\n",
        "    (2, 2): 'U',\n",
        "    (2, 3): 'L',\n",
        "}"
      ],
      "execution_count": null,
      "outputs": []
    },
    {
      "cell_type": "code",
      "metadata": {
        "id": "0CZM8NIS2QX8"
      },
      "source": [
        "class Grid: # Environment\n",
        "  def __init__(self, rows, cols, start):\n",
        "    self.rows = rows\n",
        "    self.cols = cols\n",
        "    self.i = start[0]\n",
        "    self.j = start[1]\n",
        "\n",
        "  def set(self, rewards, actions):\n",
        "    # rewards should be a dict of: (i, j): r (row, col): reward\n",
        "    # actions should be a dict of: (i, j): A (row, col): list of possible actions\n",
        "    self.rewards = rewards\n",
        "    self.actions = actions\n",
        "\n",
        "  def set_state(self, s):\n",
        "    self.i = s[0]\n",
        "    self.j = s[1]\n",
        "\n",
        "  def current_state(self):\n",
        "    return (self.i, self.j)\n",
        "\n",
        "  def is_terminal(self, s):\n",
        "    return s not in self.actions\n",
        "\n",
        "  def get_next_state(self, s, a):\n",
        "    # this answers: where would I end up if I perform action 'a' in state 's'?\n",
        "    i, j = s[0], s[1]\n",
        "\n",
        "    # if this action moves you somewhere else, then it will be in this dictionary\n",
        "    if a in self.actions[(i, j)]:\n",
        "      if a == 'U':\n",
        "        i -= 1\n",
        "      elif a == 'D':\n",
        "        i += 1\n",
        "      elif a == 'R':\n",
        "        j += 1\n",
        "      elif a == 'L':\n",
        "        j -= 1\n",
        "    return i, j\n",
        "\n",
        "  def move(self, action):\n",
        "    # check if legal move first\n",
        "    if action in self.actions[(self.i, self.j)]:\n",
        "      if action == 'U':\n",
        "        self.i -= 1\n",
        "      elif action == 'D':\n",
        "        self.i += 1\n",
        "      elif action == 'R':\n",
        "        self.j += 1\n",
        "      elif action == 'L':\n",
        "        self.j -= 1\n",
        "    # return a reward (if any)\n",
        "    return self.rewards.get((self.i, self.j), 0)\n",
        "\n",
        "  def undo_move(self, action):\n",
        "    # these are the opposite of what U/D/L/R should normally do\n",
        "    if action == 'U':\n",
        "      self.i += 1\n",
        "    elif action == 'D':\n",
        "      self.i -= 1\n",
        "    elif action == 'R':\n",
        "      self.j -= 1\n",
        "    elif action == 'L':\n",
        "      self.j += 1\n",
        "    # raise an exception if we arrive somewhere we shouldn't be\n",
        "    # should never happen\n",
        "    assert(self.current_state() in self.all_states())\n",
        "\n",
        "  def game_over(self):\n",
        "    # returns true if game is over, else false\n",
        "    # true if we are in a state where no actions are possible\n",
        "    return (self.i, self.j) not in self.actions\n",
        "\n",
        "  def all_states(self):\n",
        "    # possibly buggy but simple way to get all states\n",
        "    # either a position that has possible next actions\n",
        "    # or a position that yields a reward\n",
        "    return set(self.actions.keys()) | set(self.rewards.keys())"
      ],
      "execution_count": null,
      "outputs": []
    },
    {
      "cell_type": "code",
      "metadata": {
        "id": "dxWPAX4TYiGt"
      },
      "source": [
        "def standard_grid():\n",
        "  # define a grid that describes the reward for arriving at each state\n",
        "  # and possible actions at each state\n",
        "  # the grid looks like this\n",
        "  # x means you can't go there\n",
        "  # s means start position\n",
        "  # number means reward at that state\n",
        "  # .  .  .  1\n",
        "  # .  x  . -1\n",
        "  # s  .  .  .\n",
        "  g = Grid(3, 4, (2, 0))\n",
        "  rewards = {(0, 3): 1, (1, 3): -1}\n",
        "  actions = {\n",
        "    (0, 0): ('D', 'R'),\n",
        "    (0, 1): ('L', 'R'),\n",
        "    (0, 2): ('L', 'D', 'R'),\n",
        "    (1, 0): ('U', 'D'),\n",
        "    (1, 2): ('U', 'D', 'R'),\n",
        "    (2, 0): ('U', 'R'),\n",
        "    (2, 1): ('L', 'R'),\n",
        "    (2, 2): ('L', 'R', 'U'),\n",
        "    (2, 3): ('L', 'U'),\n",
        "  }\n",
        "  g.set(rewards, actions)\n",
        "  return g\n"
      ],
      "execution_count": null,
      "outputs": []
    },
    {
      "cell_type": "code",
      "metadata": {
        "id": "W10py6FLADcO"
      },
      "source": [
        "def print_values(V, g):\n",
        "  for i in range(g.rows):\n",
        "    print(\"---------------------------\")\n",
        "    for j in range(g.cols):\n",
        "      v = V.get((i,j), 0)\n",
        "      if v >= 0:\n",
        "        print(\" %.2f|\" % v, end=\"\")\n",
        "      else:\n",
        "        print(\"%.2f|\" % v, end=\"\") # -ve sign takes up an extra space\n",
        "    print(\"\")"
      ],
      "execution_count": null,
      "outputs": []
    },
    {
      "cell_type": "code",
      "metadata": {
        "id": "jElmjN6AA4qs"
      },
      "source": [
        "def print_policy(P, g):\n",
        "  for i in range(g.rows):\n",
        "    print(\"---------------------------\")\n",
        "    for j in range(g.cols):\n",
        "      a = P.get((i,j), ' ')\n",
        "      print(\"  %s  |\" % a, end=\"\")\n",
        "    print(\"\")\n"
      ],
      "execution_count": null,
      "outputs": []
    },
    {
      "cell_type": "code",
      "metadata": {
        "id": "FV7zDT8oBygF"
      },
      "source": [
        "transition_probs = {}\n",
        "rewards = {}\n",
        "\n",
        "grid = standard_grid()\n",
        "for i in range(grid.rows):\n",
        "  for j in range(grid.cols):\n",
        "    s = (i, j)\n",
        "    if not grid.is_terminal(s):\n",
        "      for a in ACTION_SPACE:\n",
        "        s2 = grid.get_next_state(s, a)\n",
        "        transition_probs[(s, a, s2)] = 1\n",
        "        if s2 in grid.rewards:\n",
        "          rewards[(s, a, s2)] = grid.rewards[s2]\n"
      ],
      "execution_count": null,
      "outputs": []
    },
    {
      "cell_type": "code",
      "metadata": {
        "id": "3I4SiVpIDVBM",
        "colab": {
          "base_uri": "https://localhost:8080/",
          "height": 119
        },
        "outputId": "8d88d84e-48a4-48ae-ac40-344f3e10dd2c"
      },
      "source": [
        "print_policy(policy,grid)"
      ],
      "execution_count": null,
      "outputs": [
        {
          "output_type": "stream",
          "text": [
            "---------------------------\n",
            "  R  |  R  |  R  |     |\n",
            "---------------------------\n",
            "  U  |     |  U  |     |\n",
            "---------------------------\n",
            "  U  |  R  |  U  |  L  |\n"
          ],
          "name": "stdout"
        }
      ]
    },
    {
      "cell_type": "code",
      "metadata": {
        "id": "BT85MhLI5-tp"
      },
      "source": [
        ""
      ],
      "execution_count": null,
      "outputs": []
    },
    {
      "cell_type": "code",
      "metadata": {
        "id": "Jg5BQ8rq7X6L"
      },
      "source": [
        "# repeat until convergence\n",
        "def evaluate_deterministic_policy(grid, policy):\n",
        "  V = {}\n",
        "  for s in grid.all_states():\n",
        "    V[s] = 0\n",
        "  it = 0\n",
        "  while True:\n",
        "    biggest_change = 0\n",
        "\n",
        "    for s in grid.all_states():\n",
        "      if not grid.is_terminal(s):\n",
        "        old_v = V[s]\n",
        "        new_v = 0 # we will accumulate the answer\n",
        "        for a in ACTION_SPACE:\n",
        "          for s2 in grid.all_states():\n",
        "\n",
        "            # action probability is deterministic\n",
        "            action_prob = 1 if policy.get(s) == a else 0\n",
        "            \n",
        "            # reward is a function of (s, a, s'), 0 if not specified\n",
        "            r = rewards.get((s, a, s2), 0)\n",
        "            new_v += action_prob * transition_probs.get((s, a, s2), 0) * (r + gamma * V[s2])\n",
        "\n",
        "          # after done getting the new value, update the value table\n",
        "        V[s] = new_v\n",
        "        biggest_change = max(biggest_change, np.abs(old_v - V[s]))\n",
        "\n",
        "    print(\"iter:\", it, \"biggest_change:\", biggest_change)\n",
        "    print_values(V, grid)\n",
        "    it += 1\n",
        "\n",
        "    if biggest_change < SMALL_ENOUGH:\n",
        "      break\n",
        "  return V\n"
      ],
      "execution_count": null,
      "outputs": []
    },
    {
      "cell_type": "code",
      "metadata": {
        "id": "OIuRCnCUI9i6",
        "colab": {
          "base_uri": "https://localhost:8080/",
          "height": 119
        },
        "outputId": "8790d91c-f1e1-4bf1-be76-6ee833076e07"
      },
      "source": [
        "policy = {} #random policy to start the iteration and evaluation cycle\n",
        "for s in grid.actions.keys():\n",
        "  policy[s] = np.random.choice(ACTION_SPACE)\n",
        "\n",
        "print_policy(policy, grid)"
      ],
      "execution_count": null,
      "outputs": [
        {
          "output_type": "stream",
          "text": [
            "---------------------------\n",
            "  U  |  L  |  L  |     |\n",
            "---------------------------\n",
            "  R  |     |  R  |     |\n",
            "---------------------------\n",
            "  R  |  L  |  U  |  U  |\n"
          ],
          "name": "stdout"
        }
      ]
    },
    {
      "cell_type": "code",
      "metadata": {
        "id": "xVMNyMpZavOn",
        "colab": {
          "base_uri": "https://localhost:8080/",
          "height": 1000
        },
        "outputId": "ff471543-1c74-45f4-cb20-f9bd96e58b2e"
      },
      "source": [
        "while True:\n",
        "  V = evaluate_deterministic_policy(grid, policy)\n",
        "\n",
        "  is_policy_converged = True\n",
        "  for s in grid.actions.keys():\n",
        "    old_a = policy[s]\n",
        "    new_a = None\n",
        "    best_value = float('-Inf')\n",
        "\n",
        "    for a in ACTION_SPACE:\n",
        "      v = 0\n",
        "      for s2 in grid.all_states():\n",
        "        r = rewards.get((s,a,s2),0)\n",
        "        v += transition_probs.get((s,a,s2),0)*(r + gamma*V[s2])\n",
        "      if v > best_value:\n",
        "        best_value = v\n",
        "        new_a = a\n",
        "    policy[s] = new_a\n",
        "    if new_a != old_a:\n",
        "      is_policy_converged = False\n",
        "  if is_policy_converged:\n",
        "    break\n",
        "print(\"values:\")\n",
        "print_values(V,grid)\n",
        "print(\"policy:\")\n",
        "print_policy(policy, grid)\n"
      ],
      "execution_count": null,
      "outputs": [
        {
          "output_type": "stream",
          "text": [
            "iter: 0 biggest_change: 1.0\n",
            "---------------------------\n",
            " 0.00| 0.00| 0.00| 0.00|\n",
            "---------------------------\n",
            " 0.00| 0.00|-1.00| 0.00|\n",
            "---------------------------\n",
            " 0.00| 0.00|-0.90|-1.00|\n",
            "iter: 1 biggest_change: 0\n",
            "---------------------------\n",
            " 0.00| 0.00| 0.00| 0.00|\n",
            "---------------------------\n",
            " 0.00| 0.00|-1.00| 0.00|\n",
            "---------------------------\n",
            " 0.00| 0.00|-0.90|-1.00|\n",
            "iter: 0 biggest_change: 1.0\n",
            "---------------------------\n",
            " 0.00| 0.00| 1.00| 0.00|\n",
            "---------------------------\n",
            " 0.00| 0.00| 0.00| 0.00|\n",
            "---------------------------\n",
            " 0.00| 0.00| 0.00| 0.00|\n",
            "iter: 1 biggest_change: 0.9\n",
            "---------------------------\n",
            " 0.00| 0.00| 1.00| 0.00|\n",
            "---------------------------\n",
            " 0.00| 0.00| 0.90| 0.00|\n",
            "---------------------------\n",
            " 0.00| 0.00| 0.00| 0.00|\n",
            "iter: 2 biggest_change: 0\n",
            "---------------------------\n",
            " 0.00| 0.00| 1.00| 0.00|\n",
            "---------------------------\n",
            " 0.00| 0.00| 0.90| 0.00|\n",
            "---------------------------\n",
            " 0.00| 0.00| 0.00| 0.00|\n",
            "iter: 0 biggest_change: 1.0\n",
            "---------------------------\n",
            " 0.00| 0.00| 1.00| 0.00|\n",
            "---------------------------\n",
            " 0.00| 0.00| 0.00| 0.00|\n",
            "---------------------------\n",
            " 0.00| 0.00| 0.00| 0.00|\n",
            "iter: 1 biggest_change: 0.9\n",
            "---------------------------\n",
            " 0.00| 0.90| 1.00| 0.00|\n",
            "---------------------------\n",
            " 0.00| 0.00| 0.90| 0.00|\n",
            "---------------------------\n",
            " 0.00| 0.00| 0.81| 0.00|\n",
            "iter: 2 biggest_change: 0.7290000000000001\n",
            "---------------------------\n",
            " 0.00| 0.90| 1.00| 0.00|\n",
            "---------------------------\n",
            " 0.00| 0.00| 0.90| 0.00|\n",
            "---------------------------\n",
            " 0.00| 0.00| 0.81| 0.73|\n",
            "iter: 3 biggest_change: 0\n",
            "---------------------------\n",
            " 0.00| 0.90| 1.00| 0.00|\n",
            "---------------------------\n",
            " 0.00| 0.00| 0.90| 0.00|\n",
            "---------------------------\n",
            " 0.00| 0.00| 0.81| 0.73|\n",
            "iter: 0 biggest_change: 1.0\n",
            "---------------------------\n",
            " 0.00| 0.00| 1.00| 0.00|\n",
            "---------------------------\n",
            " 0.00| 0.00| 0.00| 0.00|\n",
            "---------------------------\n",
            " 0.00| 0.00| 0.00| 0.00|\n",
            "iter: 1 biggest_change: 0.9\n",
            "---------------------------\n",
            " 0.81| 0.90| 1.00| 0.00|\n",
            "---------------------------\n",
            " 0.73| 0.00| 0.90| 0.00|\n",
            "---------------------------\n",
            " 0.00| 0.00| 0.81| 0.00|\n",
            "iter: 2 biggest_change: 0.7290000000000001\n",
            "---------------------------\n",
            " 0.81| 0.90| 1.00| 0.00|\n",
            "---------------------------\n",
            " 0.73| 0.00| 0.90| 0.00|\n",
            "---------------------------\n",
            " 0.66| 0.73| 0.81| 0.73|\n",
            "iter: 3 biggest_change: 0\n",
            "---------------------------\n",
            " 0.81| 0.90| 1.00| 0.00|\n",
            "---------------------------\n",
            " 0.73| 0.00| 0.90| 0.00|\n",
            "---------------------------\n",
            " 0.66| 0.73| 0.81| 0.73|\n",
            "values:\n",
            "---------------------------\n",
            " 0.81| 0.90| 1.00| 0.00|\n",
            "---------------------------\n",
            " 0.73| 0.00| 0.90| 0.00|\n",
            "---------------------------\n",
            " 0.66| 0.73| 0.81| 0.73|\n",
            "policy:\n",
            "---------------------------\n",
            "  R  |  R  |  R  |     |\n",
            "---------------------------\n",
            "  U  |     |  U  |     |\n",
            "---------------------------\n",
            "  U  |  R  |  U  |  L  |\n"
          ],
          "name": "stdout"
        }
      ]
    },
    {
      "cell_type": "code",
      "metadata": {
        "id": "dOTiN8ZNc1nQ"
      },
      "source": [
        ""
      ],
      "execution_count": null,
      "outputs": []
    }
  ]
}