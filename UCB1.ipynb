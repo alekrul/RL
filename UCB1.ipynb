{
  "nbformat": 4,
  "nbformat_minor": 0,
  "metadata": {
    "colab": {
      "name": "UCB1.ipynb",
      "provenance": [],
      "authorship_tag": "ABX9TyN8KFeFtZegHqxIyW/ffClZ",
      "include_colab_link": true
    },
    "kernelspec": {
      "name": "python3",
      "display_name": "Python 3"
    }
  },
  "cells": [
    {
      "cell_type": "markdown",
      "metadata": {
        "id": "view-in-github",
        "colab_type": "text"
      },
      "source": [
        "<a href=\"https://colab.research.google.com/github/alekrul/RL/blob/main/UCB1.ipynb\" target=\"_parent\"><img src=\"https://colab.research.google.com/assets/colab-badge.svg\" alt=\"Open In Colab\"/></a>"
      ]
    },
    {
      "cell_type": "code",
      "metadata": {
        "id": "Gz1qfzSGwNxP"
      },
      "source": [
        "import numpy as np\n",
        "import matplotlib.pyplot as plt"
      ],
      "execution_count": null,
      "outputs": []
    },
    {
      "cell_type": "code",
      "metadata": {
        "id": "TKhHFEr2wTBQ"
      },
      "source": [
        "NUM_TRIALS = 100000\n",
        "EPS = 0.1\n",
        "BANDIT_PROBS = [0.2, 0.5, 0.75]"
      ],
      "execution_count": null,
      "outputs": []
    },
    {
      "cell_type": "code",
      "metadata": {
        "id": "VwOHC4mjwdUN"
      },
      "source": [
        "class Bandit:\n",
        "  def __init__(self, p):\n",
        "    self.p = p\n",
        "    self.p_estimate = 0.\n",
        "    self.N = 0\n",
        "\n",
        "  def pull(self):\n",
        "    return np.random.random() < self.p\n",
        "  \n",
        "  def update(self, x):\n",
        "    self.N += 1\n",
        "    self.p_estimate = ((self.N - 1)*self.p_estimate + x)/ self.N"
      ],
      "execution_count": null,
      "outputs": []
    },
    {
      "cell_type": "code",
      "metadata": {
        "id": "3HZLLsczw0_-"
      },
      "source": [
        "def ucb(mean, n, nj):\n",
        "  return mean + np.sqrt(2*np.log(n)/nj) "
      ],
      "execution_count": null,
      "outputs": []
    },
    {
      "cell_type": "code",
      "metadata": {
        "id": "k2wSBJJow_fd"
      },
      "source": [
        "def experiment():\n",
        "  bandits = [Bandit(p) for p in BANDIT_PROBS]\n",
        "  rewards = np.empty(NUM_TRIALS)\n",
        "  total_plays = 0\n",
        "\n",
        "  for j in range(len(bandits)):\n",
        "    x = bandits[j].pull()\n",
        "    total_plays += 1\n",
        "    bandits[j].update(x)\n",
        "\n",
        "  for i in range(NUM_TRIALS):\n",
        "    j = np.argmax([ucb(b.p_estimate, total_plays, b.N) for b in bandits])\n",
        "    x = bandits[j].pull()\n",
        "    total_plays += 1\n",
        "    bandits[j].update(x)\n",
        "\n",
        "    rewards[i] = x\n",
        "  for b in bandits:\n",
        "    print(\"mean estimate:\", b.p_estimate)\n",
        "  print(\"total reward earned:\", rewards.sum())\n",
        "  print(\"Overall win rate:\", rewards.sum()/NUM_TRIALS)\n",
        "  \n",
        "\n",
        "  cumulative_rewards = np.cumsum(rewards)\n",
        "  win_rates = cumulative_rewards / (np.arange(NUM_TRIALS) +1)\n",
        "  plt.plot(win_rates)\n",
        "  plt.plot(np.ones(NUM_TRIALS)*np.max(BANDIT_PROBS))\n",
        "  plt.show()  \n",
        "  \n",
        "  cumulative_average = np.cumsum(rewards)/ (np.arange(NUM_TRIALS)+1)\n",
        "\n",
        "  plt.plot(cumulative_average)\n",
        "  plt.plot(np.ones(NUM_TRIALS)*np.max(BANDIT_PROBS))\n",
        "  plt.xscale('log')\n",
        "  "
      ],
      "execution_count": null,
      "outputs": []
    },
    {
      "cell_type": "code",
      "metadata": {
        "id": "NckUqFSeylYT",
        "colab": {
          "base_uri": "https://localhost:8080/",
          "height": 602
        },
        "outputId": "3bdaf876-6e9c-4d05-d1a0-ef8310e81383"
      },
      "source": [
        "experiment()"
      ],
      "execution_count": null,
      "outputs": [
        {
          "output_type": "stream",
          "text": [
            "mean estimate: 0.19444444444444442\n",
            "mean estimate: 0.5239294710327458\n",
            "mean estimate: 0.750437036590514\n",
            "total reward earned: 74915.0\n",
            "Overall win rate: 0.74915\n"
          ],
          "name": "stdout"
        },
        {
          "output_type": "display_data",
          "data": {
            "image/png": "[encoded data removed]",
            "text/plain": [
              "<Figure size 432x288 with 1 Axes>"
            ]
          },
          "metadata": {
            "tags": [],
            "needs_background": "light"
          }
        },
        {
          "output_type": "display_data",
          "data": {
            "image/png": "[encoded data removed]",
            "text/plain": [
              "<Figure size 432x288 with 1 Axes>"
            ]
          },
          "metadata": {
            "tags": [],
            "needs_background": "light"
          }
        }
      ]
    },
    {
      "cell_type": "code",
      "metadata": {
        "id": "Q-oS7VtEynKn"
      },
      "source": [
        ""
      ],
      "execution_count": null,
      "outputs": []
    }
  ]
}